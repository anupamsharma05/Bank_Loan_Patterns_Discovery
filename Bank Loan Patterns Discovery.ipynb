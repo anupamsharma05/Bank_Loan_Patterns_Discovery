{
 "cells": [
  {
   "cell_type": "code",
   "execution_count": 48,
   "id": "7895e8bf",
   "metadata": {},
   "outputs": [],
   "source": [
    "#Importing Libraries \n",
    "import pandas as pd\n",
    "import numpy as np\n",
    "import seaborn as sns\n",
    "import matplotlib.pyplot as plt"
   ]
  },
  {
   "cell_type": "code",
   "execution_count": 29,
   "id": "39cb03a0",
   "metadata": {
    "scrolled": false
   },
   "outputs": [
    {
     "name": "stdout",
     "output_type": "stream",
     "text": [
      "          ID  Age     Sex      Region    Income Self_Employed Married  \\\n",
      "0    id12101   48  FEMALE  INNER_CITY  22467.00           YES     YES   \n",
      "1    id12102   40    MALE        TOWN  32825.00            NO     YES   \n",
      "2    id12103   51  FEMALE  INNER_CITY  16575.40            NO     YES   \n",
      "3    id12104   23  FEMALE        TOWN  20375.40            NO      NO   \n",
      "4    id12105   57  FEMALE       RURAL  50576.30            NO      NO   \n",
      "..       ...  ...     ...         ...       ...           ...     ...   \n",
      "595  id12696   61  FEMALE  INNER_CITY  47025.00            NO      NO   \n",
      "596  id12697   30  FEMALE  INNER_CITY   9672.25           YES      NO   \n",
      "597  id12698   31  FEMALE        TOWN  15976.30           YES     YES   \n",
      "598  id12699   29    MALE  INNER_CITY  14711.80           YES      NO   \n",
      "599  id12700   38    MALE        TOWN  26671.60            NO     YES   \n",
      "\n",
      "     Dependents Graduate Approved  \n",
      "0             0       NO      YES  \n",
      "1             3      YES      YES  \n",
      "2             1      YES       NO  \n",
      "3             0      YES      YES  \n",
      "4             2       NO       NO  \n",
      "..          ...      ...      ...  \n",
      "595           2      YES      YES  \n",
      "596           0      YES      YES  \n",
      "597           0       NO      YES  \n",
      "598           0       NO      YES  \n",
      "599           0      YES       NO  \n",
      "\n",
      "[600 rows x 10 columns]\n"
     ]
    }
   ],
   "source": [
    "# Loading and show the dataset \n",
    "datadf = pd.read_csv(\"bank-Detail.csv\")\n",
    "print(datadf)"
   ]
  },
  {
   "cell_type": "code",
   "execution_count": 30,
   "id": "385ea143",
   "metadata": {},
   "outputs": [
    {
     "data": {
      "text/plain": [
       "(600, 10)"
      ]
     },
     "execution_count": 30,
     "metadata": {},
     "output_type": "execute_result"
    }
   ],
   "source": [
    "# Check the dataset there are 600  rows and 10 columns\n",
    "datadf.shape"
   ]
  },
  {
   "cell_type": "code",
   "execution_count": 31,
   "id": "f208844d",
   "metadata": {
    "scrolled": true
   },
   "outputs": [
    {
     "name": "stdout",
     "output_type": "stream",
     "text": [
      "Index(['ID', 'Age', 'Sex', 'Region', 'Income', 'Self_Employed', 'Married',\n",
      "       'Dependents', 'Graduate', 'Approved'],\n",
      "      dtype='object')\n"
     ]
    }
   ],
   "source": [
    "# Features in the Dataset\n",
    "columns = datadf.columns\n",
    "print(columns)"
   ]
  },
  {
   "cell_type": "code",
   "execution_count": 32,
   "id": "530d1a03",
   "metadata": {},
   "outputs": [
    {
     "name": "stdout",
     "output_type": "stream",
     "text": [
      "<class 'pandas.core.frame.DataFrame'>\n",
      "RangeIndex: 600 entries, 0 to 599\n",
      "Data columns (total 10 columns):\n",
      " #   Column         Non-Null Count  Dtype  \n",
      "---  ------         --------------  -----  \n",
      " 0   ID             600 non-null    object \n",
      " 1   Age            600 non-null    int64  \n",
      " 2   Sex            600 non-null    object \n",
      " 3   Region         600 non-null    object \n",
      " 4   Income         600 non-null    float64\n",
      " 5   Self_Employed  600 non-null    object \n",
      " 6   Married        600 non-null    object \n",
      " 7   Dependents     600 non-null    int64  \n",
      " 8   Graduate       600 non-null    object \n",
      " 9   Approved       600 non-null    object \n",
      "dtypes: float64(1), int64(2), object(7)\n",
      "memory usage: 47.0+ KB\n"
     ]
    }
   ],
   "source": [
    "# Data Type and number of observations in each column\n",
    "datadf.info()"
   ]
  },
  {
   "cell_type": "code",
   "execution_count": 33,
   "id": "435bb897",
   "metadata": {},
   "outputs": [
    {
     "data": {
      "text/plain": [
       "YES    0.691667\n",
       "NO     0.308333\n",
       "Name: Approved, dtype: float64"
      ]
     },
     "execution_count": 33,
     "metadata": {},
     "output_type": "execute_result"
    }
   ],
   "source": [
    "#Checking the proportion of Approved Loan Applications in the data\n",
    "datadf['Approved'].value_counts(normalize = True)"
   ]
  },
  {
   "cell_type": "code",
   "execution_count": 34,
   "id": "d4a95a2b",
   "metadata": {
    "scrolled": false
   },
   "outputs": [
    {
     "data": {
      "text/plain": [
       "<AxesSubplot:>"
      ]
     },
     "execution_count": 34,
     "metadata": {},
     "output_type": "execute_result"
    },
    {
     "data": {
      "image/png": "[encoded data removed]",
      "text/plain": [
       "<Figure size 432x288 with 1 Axes>"
      ]
     },
     "metadata": {
      "needs_background": "light"
     },
     "output_type": "display_data"
    }
   ],
   "source": [
    "# Plotting the Loan Status bar chart\n",
    "datadf['Approved'].value_counts(normalize = True).plot.bar()"
   ]
  },
  {
   "cell_type": "code",
   "execution_count": 35,
   "id": "40e9b53d",
   "metadata": {
    "scrolled": true
   },
   "outputs": [
    {
     "name": "stdout",
     "output_type": "stream",
     "text": [
      "FEMALE    50.0\n",
      "MALE      50.0\n",
      "Name: Sex, dtype: float64\n",
      "INNER_CITY    44.833333\n",
      "TOWN          28.833333\n",
      "RURAL         16.000000\n",
      "SUBURBAN      10.333333\n",
      "Name: Region, dtype: float64\n",
      "38248.3    0.333333\n",
      "22467.0    0.166667\n",
      "34182.2    0.166667\n",
      "57444.5    0.166667\n",
      "38059.8    0.166667\n",
      "             ...   \n",
      "26077.8    0.166667\n",
      "41627.1    0.166667\n",
      "16977.3    0.166667\n",
      "19012.8    0.166667\n",
      "26671.6    0.166667\n",
      "Name: Income, Length: 599, dtype: float64\n",
      "YES    65.5\n",
      "NO     34.5\n",
      "Name: Self_Employed, dtype: float64\n",
      "NO     54.0\n",
      "YES    46.0\n",
      "Name: Married, dtype: float64\n",
      "0    43.500000\n",
      "1    22.666667\n",
      "2    22.333333\n",
      "3    11.500000\n",
      "Name: Dependents, dtype: float64\n",
      "YES    75.833333\n",
      "NO     24.166667\n",
      "Name: Graduate, dtype: float64\n",
      "YES    69.166667\n",
      "NO     30.833333\n",
      "Name: Approved, dtype: float64\n"
     ]
    }
   ],
   "source": [
    "# Analyzing the categorical variables in the data\n",
    "category = ['Sex', 'Region','Income', 'Self_Employed', 'Married','Dependents','Graduate','Approved']\n",
    "for j in category : \n",
    "     a = datadf[j].value_counts(normalize = True)\n",
    "     b = a*100\n",
    "     print(b)"
   ]
  },
  {
   "cell_type": "code",
   "execution_count": 61,
   "id": "64db2489",
   "metadata": {},
   "outputs": [
    {
     "name": "stdout",
     "output_type": "stream",
     "text": [
      "Age 42.4 42.0\n",
      "Income 27936.07 24925.3\n",
      "Dependents 1.02 1.0\n"
     ]
    },
    {
     "data": {
      "image/png": "[encoded data removed]",
      "text/plain": [
       "<Figure size 360x360 with 1 Axes>"
      ]
     },
     "metadata": {
      "needs_background": "light"
     },
     "output_type": "display_data"
    },
    {
     "data": {
      "image/png": "[encoded data removed]",
      "text/plain": [
       "<Figure size 360x360 with 1 Axes>"
      ]
     },
     "metadata": {
      "needs_background": "light"
     },
     "output_type": "display_data"
    },
    {
     "data": {
      "image/png": "[encoded data removed]",
      "text/plain": [
       "<Figure size 360x360 with 1 Axes>"
      ]
     },
     "metadata": {
      "needs_background": "light"
     },
     "output_type": "display_data"
    }
   ],
   "source": [
    "# Finding mean and median of the numerical columns and plotting the Distribution of the Numerical Variables in the dataset\n",
    "new_columns = ['Age', 'Income', 'Dependents']\n",
    "for j in new_columns :\n",
    "    print (j , round(datadf[j].mean(),2), round(datadf[j].median(),2))\n",
    "for idx, num_col in enumerate(new_columns):\n",
    "    sns.displot(x= num_col, data=datadf, bins=20, kde= True)\n",
    "    plt.show()"
   ]
  },
  {
   "cell_type": "code",
   "execution_count": 67,
   "id": "ecd3d23f",
   "metadata": {
    "scrolled": true
   },
   "outputs": [
    {
     "name": "stdout",
     "output_type": "stream",
     "text": [
      "Income\n",
      "5014.21      21.0\n",
      "6294.21      18.0\n",
      "7304.20      22.0\n",
      "7549.38      21.0\n",
      "7606.25      23.0\n",
      "             ... \n",
      "59805.60     63.0\n",
      "60747.50     67.0\n",
      "61554.60     65.0\n",
      "63130.10     67.0\n",
      "266222.80    52.0\n",
      "Name: Age, Length: 599, dtype: float64\n"
     ]
    },
    {
     "data": {
      "image/png": "[encoded data removed]",
      "text/plain": [
       "<Figure size 432x288 with 1 Axes>"
      ]
     },
     "metadata": {
      "needs_background": "light"
     },
     "output_type": "display_data"
    },
    {
     "name": "stdout",
     "output_type": "stream",
     "text": [
      "Income\n",
      "5014.21      0.0\n",
      "6294.21      0.0\n",
      "7304.20      0.0\n",
      "7549.38      1.0\n",
      "7606.25      3.0\n",
      "            ... \n",
      "59805.60     1.0\n",
      "60747.50     2.0\n",
      "61554.60     0.0\n",
      "63130.10     2.0\n",
      "266222.80    0.0\n",
      "Name: Dependents, Length: 599, dtype: float64\n"
     ]
    },
    {
     "data": {
      "image/png": "[encoded data removed]",
      "text/plain": [
       "<Figure size 432x288 with 1 Axes>"
      ]
     },
     "metadata": {
      "needs_background": "light"
     },
     "output_type": "display_data"
    }
   ],
   "source": [
    "#Relationship of the Variables with the Target Variable (Income) in the Data set\n",
    "num_columns = ['Age', 'Dependents']\n",
    "for idx,m in enumerate(num_columns):\n",
    "    plt.subplot(222)\n",
    "    a = datadf.groupby('Income')[m].median()\n",
    "    print(a)\n",
    "    a.plot.bar(title = m)\n",
    "    plt.show()"
   ]
  },
  {
   "cell_type": "code",
   "execution_count": null,
   "id": "aef02e2c",
   "metadata": {},
   "outputs": [],
   "source": []
  }
 ],
 "metadata": {
  "kernelspec": {
   "display_name": "Python 3 (ipykernel)",
   "language": "python",
   "name": "python3"
  },
  "language_info": {
   "codemirror_mode": {
    "name": "ipython",
    "version": 3
   },
   "file_extension": ".py",
   "mimetype": "text/x-python",
   "name": "python",
   "nbconvert_exporter": "python",
   "pygments_lexer": "ipython3",
   "version": "3.9.7"
  }
 },
 "nbformat": 4,
 "nbformat_minor": 5
}
