{
 "cells": [
  {
   "cell_type": "code",
   "execution_count": null,
   "id": "5b9839b3",
   "metadata": {},
   "outputs": [],
   "source": [
    "#Importing Libraries \n",
    "import pandas as pd\n",
    "import numpy as np\n",
    "import seaborn as sns\n",
    "import matplotlib.pyplot as plt"
   ]
  },
  {
   "cell_type": "code",
   "execution_count": null,
   "id": "3917c8ac",
   "metadata": {},
   "outputs": [],
   "source": [
    "# Loading and show the dataset \n",
    "datadf = pd.read_csv(\"bank-Detail.csv\")\n",
    "print(datadf)"
   ]
  },
  {
   "cell_type": "code",
   "execution_count": null,
   "id": "f4ec443f",
   "metadata": {},
   "outputs": [],
   "source": [
    "# Check the dataset there are 600  rows and 10 columns\n",
    "datadf.shape"
   ]
  },
  {
   "cell_type": "code",
   "execution_count": null,
   "id": "d04a5d84",
   "metadata": {},
   "outputs": [],
   "source": [
    "# Features in the Dataset\n",
    "columns = datadf.columns\n",
    "print(columns)"
   ]
  },
  {
   "cell_type": "code",
   "execution_count": null,
   "id": "1c902aa5",
   "metadata": {},
   "outputs": [],
   "source": [
    "# Data Type and number of observations in each column\n",
    "datadf.info()"
   ]
  },
  {
   "cell_type": "code",
   "execution_count": null,
   "id": "a808cbe0",
   "metadata": {},
   "outputs": [],
   "source": [
    "#Checking the proportion of Approved Loan Applications in the data\n",
    "datadf['Approved'].value_counts(normalize = True)"
   ]
  },
  {
   "cell_type": "code",
   "execution_count": null,
   "id": "2a477162",
   "metadata": {},
   "outputs": [],
   "source": [
    "# Plotting the Loan Status bar chart\n",
    "datadf['Approved'].value_counts(normalize = True).plot.bar()"
   ]
  },
  {
   "cell_type": "code",
   "execution_count": null,
   "id": "c633a98f",
   "metadata": {},
   "outputs": [],
   "source": [
    "# Analyzing the categorical variables in the data\n",
    "category = ['Sex', 'Region','Income', 'Self_Employed', 'Married','Dependents','Graduate','Approved']\n",
    "for j in category : \n",
    "     a = datadf[j].value_counts(normalize = True)\n",
    "     b = a*100\n",
    "     print(b)"
   ]
  },
  {
   "cell_type": "code",
   "execution_count": null,
   "id": "a9aa0f01",
   "metadata": {},
   "outputs": [],
   "source": [
    "# Finding mean and median of the numerical columns and plotting the Distribution of the Numerical Variables in the dataset\n",
    "new_columns = ['Age', 'Income', 'Dependents']\n",
    "for j in new_columns :\n",
    "    print (j , round(datadf[j].mean(),2), round(datadf[j].median(),2))\n",
    "for idx, num_col in enumerate(new_columns):\n",
    "    sns.displot(x= num_col, data=datadf, bins=20, kde= True)\n",
    "    plt.show()"
   ]
  },
  {
   "cell_type": "code",
   "execution_count": null,
   "id": "4d9bf308",
   "metadata": {},
   "outputs": [],
   "source": [
    "#Relationship of the Variables with the Target Variable (Income) in the Data set\n",
    "num_columns = ['Age', 'Dependents']\n",
    "for idx,m in enumerate(num_columns):\n",
    "    plt.subplot(222)\n",
    "    a = datadf.groupby('Income')[m].median()\n",
    "    print(a)\n",
    "    a.plot.bar(title = m)\n",
    "    plt.show()"
   ]
  }
 ],
 "metadata": {
  "kernelspec": {
   "display_name": "Python 3 (ipykernel)",
   "language": "python",
   "name": "python3"
  },
  "language_info": {
   "codemirror_mode": {
    "name": "ipython",
    "version": 3
   },
   "file_extension": ".py",
   "mimetype": "text/x-python",
   "name": "python",
   "nbconvert_exporter": "python",
   "pygments_lexer": "ipython3",
   "version": "3.9.7"
  }
 },
 "nbformat": 4,
 "nbformat_minor": 5
}
